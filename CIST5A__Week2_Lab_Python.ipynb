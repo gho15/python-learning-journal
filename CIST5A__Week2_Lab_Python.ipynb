{
  "nbformat": 4,
  "nbformat_minor": 0,
  "metadata": {
    "colab": {
      "provenance": []
    },
    "kernelspec": {
      "name": "python3",
      "display_name": "Python 3"
    },
    "language_info": {
      "name": "python"
    }
  },
  "cells": [
    {
      "cell_type": "code",
      "execution_count": 32,
      "metadata": {
        "colab": {
          "base_uri": "https://localhost:8080/"
        },
        "id": "AQK3r7YuUm4k",
        "outputId": "3a50792c-bc4c-4b83-df29-ea7bb5108fed"
      },
      "outputs": [
        {
          "output_type": "stream",
          "name": "stdout",
          "text": [
            "Enter your distance in kilometers54\n",
            "54.0 km is to equal to 33.554034 miles\n"
          ]
        }
      ],
      "source": [
        "# this is my function where I define the function and also where my formula is\n",
        "def km_to_mile(km):\n",
        "  mile = km * 0.621371\n",
        "  return mile\n",
        "#User input\n",
        "km = input(\"Enter your distance in kilometers\")\n",
        "\n",
        "# Converting my input to a float\n",
        "km = float(km)\n",
        "\n",
        "# storing the function in a variable and calling it \"mile\"\n",
        "mile  = km_to_mile(km)\n",
        "\n",
        "#output and what the user sees\n",
        "print(km, \"km is to equal to\", mile, \"miles\")"
      ]
    },
    {
      "cell_type": "markdown",
      "source": [],
      "metadata": {
        "id": "hpRbKaUHJjTp"
      }
    },
    {
      "cell_type": "code",
      "source": [
        "# main Function, needs to be stored still\n",
        "def celsius_to_faranheit(celsius):\n",
        "  faranheit = (celsius * 9/5) + 32\n",
        "  return faranheit\n",
        "# What user sees and input\n",
        "faranheit = input(\"enter your temperature in celsius\")\n",
        "# converting my input to a float\n",
        "faranheit = float(faranheit)\n",
        "# storing my function\n",
        "celsius = celsius_to_faranheit(faranheit)\n",
        "# User sees this after inputing the temperature\n",
        "print(faranheit, \"faranheit is equivalent to\", celsius, \"celsius\")"
      ],
      "metadata": {
        "colab": {
          "base_uri": "https://localhost:8080/"
        },
        "id": "QFb53BKAEfDR",
        "outputId": "bfcf4f6f-7174-4140-b22b-fde56f109309"
      },
      "execution_count": 33,
      "outputs": [
        {
          "output_type": "stream",
          "name": "stdout",
          "text": [
            "enter your temperature in celsius70\n",
            "70.0 faranheit is equivalent to 158.0 celsius\n"
          ]
        }
      ]
    },
    {
      "cell_type": "code",
      "source": [
        "# Defining my function\n",
        "def binary_to_decimal(binary):\n",
        "  decimal = int(binary, 2)\n",
        "  return decimal\n",
        "# what the user sees initially and asks the user to put in their binary number\n",
        "binary_input = input(\"Enter your number in binary form: \")\n",
        "# storing my function\n",
        "decimal = binary_to_decimal(binary_input)\n",
        "# the output\n",
        "print(binary_input, \"binary is equivalent to\", decimal, \"decimal\")"
      ],
      "metadata": {
        "colab": {
          "base_uri": "https://localhost:8080/"
        },
        "id": "-1pfpRsRE3h-",
        "outputId": "554267a2-e614-4e90-fa30-6f6a7c4dbc2c"
      },
      "execution_count": 34,
      "outputs": [
        {
          "output_type": "stream",
          "name": "stdout",
          "text": [
            "Enter your number in binary form: 1011\n",
            "1011 binary is equivalent to 11 decimal\n"
          ]
        }
      ]
    }
  ]
}